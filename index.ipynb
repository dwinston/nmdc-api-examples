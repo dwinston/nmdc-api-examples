{
 "cells": [
  {
   "cell_type": "code",
   "execution_count": 1,
   "id": "73ef1b94",
   "metadata": {},
   "outputs": [],
   "source": [
    "import requests\n",
    "from pprint import pprint"
   ]
  },
  {
   "cell_type": "code",
   "execution_count": 2,
   "id": "af0a5235",
   "metadata": {},
   "outputs": [],
   "source": [
    "BASE_URL = \"https://api-dev.microbiomedata.org\""
   ]
  },
  {
   "cell_type": "markdown",
   "id": "9afc4a5f",
   "metadata": {},
   "source": [
    "### Give me stuff by this identifier"
   ]
  },
  {
   "cell_type": "code",
   "execution_count": 3,
   "id": "566f1574",
   "metadata": {},
   "outputs": [],
   "source": [
    "def get_by_id(id_: str):\n",
    "    rv = requests.get(f\"{BASE_URL}/nmdcschema/ids/{id_}\")\n",
    "    return rv.json()"
   ]
  },
  {
   "cell_type": "code",
   "execution_count": 12,
   "id": "238236f0",
   "metadata": {},
   "outputs": [
    {
     "name": "stdout",
     "output_type": "stream",
     "text": [
      "nmdc:Study\n",
      "Bulk soil microbial communities from the East River watershed near Crested Butte, Colorado, United States\n",
      "[('Harry Beller', 'orcid:0000-0001-9637-3650'),\n",
      " ('Shi Wang', 'orcid:0000-0002-2408-2544'),\n",
      " ('Eoin Brodie', 'orcid:0000-0002-8453-8435'),\n",
      " ('Rosalie Chu', 'orcid:0000-0001-7428-7647'),\n",
      " ('Emiley Eloe-Fadrosh', 'orcid:0000-0002-8162-1276'),\n",
      " ('David Hoyt', 'orcid:0000-0002-2857-719X'),\n",
      " ('Ulas Karaoz', 'orcid:0000-0002-8238-6757'),\n",
      " ('Patrick Sorensen', 'orcid:0000-0002-0558-2789'),\n",
      " ('Tijana Glavina del Rio', 'orcid:0000-0003-1411-9814'),\n",
      " ('Malak Tfaily', 'orcid:0000-0002-3036-2833')]\n"
     ]
    }
   ],
   "source": [
    "doc = get_by_id(\"nmdc:sty-11-dcqce727\")\n",
    "print(doc[\"type\"])\n",
    "print(doc[\"name\"])\n",
    "pprint(\n",
    "    [(ca[\"applies_to_person\"][\"name\"],\n",
    "      ca[\"applies_to_person\"][\"orcid\"])\n",
    "     for ca in doc[\"has_credit_associations\"]\n",
    "    ])"
   ]
  },
  {
   "cell_type": "code",
   "execution_count": 16,
   "id": "75a9d25a",
   "metadata": {},
   "outputs": [
    {
     "name": "stdout",
     "output_type": "stream",
     "text": [
      "nmdc:Biosample\n",
      "Bulk soil microbial communities from the East River watershed near Crested Butte, Colorado, United States - ER_153\n",
      "{'has_raw_value': '38.920576363 -106.948748019',\n",
      " 'latitude': 38.920576363,\n",
      " 'longitude': -106.948748019,\n",
      " 'type': 'nmdc:GeolocationValue'}\n",
      "['nmdc:sty-11-dcqce727']\n"
     ]
    }
   ],
   "source": [
    "doc = get_by_id(\"nmdc:bsm-11-hbdmpd66\")\n",
    "print(doc[\"type\"])\n",
    "print(doc[\"name\"])\n",
    "pprint(doc[\"lat_lon\"])\n",
    "print(doc[\"associated_studies\"])"
   ]
  },
  {
   "cell_type": "code",
   "execution_count": 18,
   "id": "af984ad6-df43-4a08-bfc8-c20b046f8bcc",
   "metadata": {},
   "outputs": [],
   "source": [
    "# TODO: DECIDE: Update rest of notebook to reflect current schema?"
   ]
  },
  {
   "cell_type": "markdown",
   "id": "a9ce788f",
   "metadata": {},
   "source": [
    "### Give me all the MetaG/MAGS/metaT from Study ABC"
   ]
  },
  {
   "cell_type": "code",
   "execution_count": 6,
   "id": "81061ad7",
   "metadata": {},
   "outputs": [],
   "source": [
    "import json\n",
    "\n",
    "def get(\n",
    "    collection: str,\n",
    "    filter_: dict,\n",
    "    max_page_size=20,\n",
    "    page_token=None,\n",
    "    limit=0\n",
    "):\n",
    "    params = {\n",
    "        \"filter\": json.dumps(filter_),\n",
    "        \"max_page_size\": max_page_size,\n",
    "    }    \n",
    "    getmore = True\n",
    "    results = []\n",
    "    while getmore:\n",
    "        response = requests.get(\n",
    "            f\"{BASE_URL}/nmdcschema/{collection}\",\n",
    "            params=params\n",
    "        ).json()\n",
    "        if \"resources\" not in response:\n",
    "            return response\n",
    "        results.extend(response[\"resources\"])\n",
    "        if limit and len(results) > limit:\n",
    "            getmore = False\n",
    "        elif response.get(\"next_page_token\"):\n",
    "            print(f\"Got {len(results)} so far. Getting more...\")\n",
    "            params[\"page_token\"] = response[\"next_page_token\"]\n",
    "        else:\n",
    "            getmore = False\n",
    "    print(f\"Got {len(results)}\")\n",
    "    return results"
   ]
  },
  {
   "cell_type": "code",
   "execution_count": 7,
   "id": "16a29a75",
   "metadata": {},
   "outputs": [
    {
     "data": {
      "text/plain": [
       "{'detail': \"Collection name must be one of {'study_set', 'read_QC_analysis_activity_set', 'data_object_set', 'biosample_set', 'metabolomics_analysis_activity_set', 'omics_processing_set', 'metagenome_assembly_set', 'genome_feature_set', 'mags_activity_set', 'read_based_analysis_activity_set', 'functional_annotation_set', 'metaproteomics_analysis_activity_set', 'nom_analysis_activity_set', 'metatranscriptome_activity_set', 'metagenome_annotation_activity_set'}\"}"
      ]
     },
     "execution_count": 7,
     "metadata": {},
     "output_type": "execute_result"
    }
   ],
   "source": [
    "get(\"lollipops\", {})"
   ]
  },
  {
   "cell_type": "code",
   "execution_count": 8,
   "id": "6a1c6ce4",
   "metadata": {},
   "outputs": [
    {
     "name": "stdout",
     "output_type": "stream",
     "text": [
      "Got 53\n"
     ]
    }
   ],
   "source": [
    "biosamples = get(\n",
    "    \"biosample_set\", {\"part_of\": \"gold:Gs0135149\"}, max_page_size=100\n",
    ")"
   ]
  },
  {
   "cell_type": "code",
   "execution_count": 9,
   "id": "54dc87d3",
   "metadata": {},
   "outputs": [],
   "source": [
    "def ids_of(documents):\n",
    "    return [d[\"id\"] for d in documents]"
   ]
  },
  {
   "cell_type": "code",
   "execution_count": 10,
   "id": "bd7aa994",
   "metadata": {},
   "outputs": [
    {
     "name": "stdout",
     "output_type": "stream",
     "text": [
      "Got 100 so far. Getting more...\n",
      "Got 200 so far. Getting more...\n",
      "Got 300 so far. Getting more...\n",
      "Got 400 so far. Getting more...\n",
      "Got 500 so far. Getting more...\n",
      "Got 600 so far. Getting more...\n",
      "Got 700 so far. Getting more...\n",
      "Got 800 so far. Getting more...\n",
      "Got 831\n"
     ]
    }
   ],
   "source": [
    "processings = get(\n",
    "    \"omics_processing_set\",\n",
    "    {\"has_input\": {\"$in\": ids_of(biosamples)}},\n",
    "    max_page_size=100\n",
    ")"
   ]
  },
  {
   "cell_type": "code",
   "execution_count": 11,
   "id": "c5cac081",
   "metadata": {},
   "outputs": [
    {
     "name": "stdout",
     "output_type": "stream",
     "text": [
      "Got 0\n",
      "Got 0\n",
      "Got 0\n",
      "Got 0\n",
      "Got 0\n",
      "Got 0\n",
      "Got 0\n",
      "Got 12\n",
      "Got 27\n",
      "Got 0\n"
     ]
    }
   ],
   "source": [
    "\"\"\"\n",
    "Request is too large with 831 IDs, so breaking it up here.\n",
    "\"\"\"\n",
    "\n",
    "docs = []\n",
    "\n",
    "for i in range(0, 1000, 100):\n",
    "    ids = ids_of(processings)[i:i+100]\n",
    "    docs.extend(get(\n",
    "    \"metatranscriptome_activity_set\",\n",
    "    {\"was_informed_by\": {\"$in\": ids}},\n",
    "    max_page_size=100))"
   ]
  },
  {
   "cell_type": "code",
   "execution_count": 12,
   "id": "6e72aca2",
   "metadata": {},
   "outputs": [
    {
     "data": {
      "text/plain": [
       "39"
      ]
     },
     "execution_count": 12,
     "metadata": {},
     "output_type": "execute_result"
    }
   ],
   "source": [
    "len(docs)"
   ]
  },
  {
   "cell_type": "code",
   "execution_count": 13,
   "id": "b61b8e69",
   "metadata": {},
   "outputs": [],
   "source": [
    "def get_turbo(\n",
    "    collection: str,\n",
    "    filter_: dict,\n",
    "    max_page_size=1000,\n",
    "    limit=0,\n",
    "    authorization=None\n",
    "):\n",
    "    json_in = {\n",
    "        \"find\": collection,\n",
    "        \"filter\": filter_,\n",
    "        \"limit\": limit or max_page_size,\n",
    "        \"sort\": {\"id\": 1}\n",
    "    }    \n",
    "    getmore = True\n",
    "    results = []\n",
    "    headers = {\"Authorization\": authorization} if authorization else None\n",
    "    while getmore:\n",
    "        response = requests.post(\n",
    "            f\"{BASE_URL}/queries:run\",\n",
    "            json=json_in,\n",
    "            headers=headers\n",
    "        ).json()\n",
    "        if not response.get(\"ok\"):\n",
    "            return response\n",
    "        batch = response[\"cursor\"][\"firstBatch\"]\n",
    "        for d in batch:\n",
    "            d.pop(\"_id\")\n",
    "        results.extend(batch)\n",
    "        if limit and len(results) > limit:\n",
    "            getmore = False\n",
    "        elif len(batch) == max_page_size:\n",
    "            print(f\"Got {len(results)} so far. Getting more...\")\n",
    "            json_in[\"find\"][\"_id\"] = {\"$gt\": str(batch[-1][\"_id\"])}\n",
    "        else:\n",
    "            getmore = False\n",
    "    print(f\"Got {len(results)}\")\n",
    "    return results"
   ]
  },
  {
   "cell_type": "code",
   "execution_count": 14,
   "id": "b73d0ab1",
   "metadata": {},
   "outputs": [],
   "source": [
    "def get_authorization(username, password):\n",
    "    rv = requests.post(\n",
    "        f\"{BASE_URL}/token\",\n",
    "        data={\n",
    "            \"grant_type\": \"password\",\n",
    "            \"username\": username,\n",
    "            \"password\": password,\n",
    "        })\n",
    "    if not str(rv.status_code).startswith(\"2\"):\n",
    "        raise Exception(rv.text)\n",
    "    response = rv.json()\n",
    "    print(\"Expires\", response[\"expires\"])\n",
    "    return f'Bearer {response[\"access_token\"]}'"
   ]
  },
  {
   "cell_type": "code",
   "execution_count": 15,
   "id": "40b17f0e",
   "metadata": {},
   "outputs": [
    {
     "name": "stdout",
     "output_type": "stream",
     "text": [
      "Expires {'days': 0, 'hours': 0, 'minutes': 30}\n"
     ]
    }
   ],
   "source": [
    "authorization = get_authorization(\"<USERNAME>\", \"<PASSWORD>\")"
   ]
  },
  {
   "cell_type": "code",
   "execution_count": 16,
   "id": "70a150fb",
   "metadata": {},
   "outputs": [
    {
     "name": "stdout",
     "output_type": "stream",
     "text": [
      "Got 39\n"
     ]
    }
   ],
   "source": [
    "docs = get_turbo(\n",
    "    \"metatranscriptome_activity_set\",\n",
    "    {\"was_informed_by\": {\"$in\": ids_of(processings)}},\n",
    "    authorization=authorization\n",
    ")"
   ]
  },
  {
   "cell_type": "code",
   "execution_count": 17,
   "id": "fc6fd127",
   "metadata": {},
   "outputs": [
    {
     "name": "stdout",
     "output_type": "stream",
     "text": [
      "Got 92\n"
     ]
    }
   ],
   "source": [
    "docs = get_turbo(\n",
    "    \"metagenome_assembly_set\",\n",
    "    {\"was_informed_by\": {\"$in\": ids_of(processings)}},\n",
    "    authorization=authorization\n",
    ")"
   ]
  },
  {
   "cell_type": "code",
   "execution_count": 18,
   "id": "b50fa8d4",
   "metadata": {},
   "outputs": [
    {
     "name": "stdout",
     "output_type": "stream",
     "text": [
      "Got 90\n"
     ]
    }
   ],
   "source": [
    "docs = get_turbo(\n",
    "    \"metagenome_annotation_activity_set\",\n",
    "    {\"was_informed_by\": {\"$in\": ids_of(processings)}},\n",
    "    authorization=authorization\n",
    ")"
   ]
  },
  {
   "cell_type": "code",
   "execution_count": 19,
   "id": "556a677f",
   "metadata": {},
   "outputs": [
    {
     "name": "stdout",
     "output_type": "stream",
     "text": [
      "Got 101\n"
     ]
    }
   ],
   "source": [
    "docs = get_turbo(\n",
    "    \"nom_analysis_activity_set\",\n",
    "    {\"was_informed_by\": {\"$in\": ids_of(processings)}},\n",
    "    authorization=authorization\n",
    ")"
   ]
  }
 ],
 "metadata": {
  "kernelspec": {
   "display_name": "Python 3 (ipykernel)",
   "language": "python",
   "name": "python3"
  },
  "language_info": {
   "codemirror_mode": {
    "name": "ipython",
    "version": 3
   },
   "file_extension": ".py",
   "mimetype": "text/x-python",
   "name": "python",
   "nbconvert_exporter": "python",
   "pygments_lexer": "ipython3",
   "version": "3.12.1"
  }
 },
 "nbformat": 4,
 "nbformat_minor": 5
}
